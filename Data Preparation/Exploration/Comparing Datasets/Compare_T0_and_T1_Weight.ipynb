{
 "cells": [
  {
   "cell_type": "code",
   "execution_count": 40,
   "metadata": {},
   "outputs": [
    {
     "name": "stdout",
     "output_type": "stream",
     "text": [
      "Count of positive differences:  472\n",
      "Count of negative differences:  1237\n"
     ]
    }
   ],
   "source": [
    "# Compare Datasets T0 and T1 --> Weight\n",
    "\n",
    "import pandas as pd\n",
    "import numpy as np\n",
    "\n",
    "t0_data = pd.read_csv('T0_With questionaire.csv', sep=';')\n",
    "\n",
    "t1_data = pd.read_csv('HHS_T1_20_10_21.csv', error_bad_lines=False, sep=';')\n",
    "\n",
    "t0_data['Gewicht 2(afgerond op 0.1 kg)'] = t1_data['Gewicht 2(afgerond op 0.1 kg)']\n",
    "t0_data['Weight_difference'] = t1_data['Gewicht 2(afgerond op 0.1 kg)'].astype(float) - t0_data['Gewicht (afgerond op 0.1 kg)'].astype(float)\n",
    "\n",
    "count_pos_n = 0\n",
    "count_neg_n = 0 \n",
    "\n",
    "for num in t0_data['Weight_difference']:\n",
    "    if num >= 0:\n",
    "        count_pos_n += 1\n",
    "    else:\n",
    "        count_neg_n += 1\n",
    "\n",
    "print(\"Count of positive differences: \", count_pos_n) \n",
    "print(\"Count of negative differences: \", count_neg_n)\n",
    "\n",
    "print(t0_data)\n"
   ]
  },
  {
   "cell_type": "code",
   "execution_count": 41,
   "metadata": {},
   "outputs": [
    {
     "name": "stdout",
     "output_type": "stream",
     "text": [
      "Respondentnummer\n",
      "307117    14.3\n",
      "307173     1.4\n",
      "307174     3.0\n",
      "310103    -0.6\n",
      "110240    -0.3\n",
      "          ... \n",
      "302130     NaN\n",
      "305134     NaN\n",
      "305138     NaN\n",
      "305162     NaN\n",
      "306108     NaN\n",
      "Name: Weight_difference, Length: 1709, dtype: float64\n",
      "-7.481561461794019\n"
     ]
    }
   ],
   "source": [
    "t0_data.set_index('Respondentnummer', inplace=True)\n",
    "t1_data.set_index('Respondentnummer', inplace=True)\n",
    "\n",
    "print(t0_data['Weight_difference'])\n",
    "\n",
    "print(np.mean(t0_data['Weight_difference']))"
   ]
  },
  {
   "cell_type": "code",
   "execution_count": 42,
   "metadata": {},
   "outputs": [
    {
     "data": {
      "image/png": "[encoded data removed]",
      "text/plain": [
       "<Figure size 640x480 with 1 Axes>"
      ]
     },
     "metadata": {},
     "output_type": "display_data"
    }
   ],
   "source": [
    "import matplotlib.pyplot as plt\n",
    "\n",
    "plt.hist(t0_data['Weight_difference'])\n",
    "plt.show()"
   ]
  }
 ],
 "metadata": {
  "kernelspec": {
   "display_name": "pyspark",
   "language": "python",
   "name": "undefined.--profile=pyspark"
  },
  "language_info": {
   "codemirror_mode": {
    "name": "ipython",
    "version": 3
   },
   "file_extension": ".py",
   "mimetype": "text/x-python",
   "name": "python",
   "nbconvert_exporter": "python",
   "pygments_lexer": "ipython3",
   "version": "3.8.2"
  },
  "orig_nbformat": 4
 },
 "nbformat": 4,
 "nbformat_minor": 2
}
