{
 "cells": [
  {
   "cell_type": "markdown",
   "metadata": {},
   "source": [
    "Recreation of example to gain an understanding of the RandomForest model"
   ]
  },
  {
   "cell_type": "code",
   "execution_count": 7,
   "metadata": {},
   "outputs": [
    {
     "name": "stdout",
     "output_type": "stream",
     "text": [
      "['setosa' 'versicolor' 'virginica']\n",
      "['sepal length (cm)', 'sepal width (cm)', 'petal length (cm)', 'petal width (cm)']\n",
      "[[5.1 3.5 1.4 0.2]\n",
      " [4.9 3.  1.4 0.2]\n",
      " [4.7 3.2 1.3 0.2]\n",
      " [4.6 3.1 1.5 0.2]\n",
      " [5.  3.6 1.4 0.2]]\n",
      "[0 0 0 0 0 0 0 0 0 0 0 0 0 0 0 0 0 0 0 0 0 0 0 0 0 0 0 0 0 0 0 0 0 0 0 0 0\n",
      " 0 0 0 0 0 0 0 0 0 0 0 0 0 1 1 1 1 1 1 1 1 1 1 1 1 1 1 1 1 1 1 1 1 1 1 1 1\n",
      " 1 1 1 1 1 1 1 1 1 1 1 1 1 1 1 1 1 1 1 1 1 1 1 1 1 1 2 2 2 2 2 2 2 2 2 2 2\n",
      " 2 2 2 2 2 2 2 2 2 2 2 2 2 2 2 2 2 2 2 2 2 2 2 2 2 2 2 2 2 2 2 2 2 2 2 2 2\n",
      " 2 2]\n",
      "Accuracy: 0.9333333333333333\n"
     ]
    },
    {
     "name": "stderr",
     "output_type": "stream",
     "text": [
      "/opt/jupyterhub/anaconda/lib/python3.8/site-packages/sklearn/base.py:445: UserWarning: X does not have valid feature names, but RandomForestClassifier was fitted with feature names\n",
      "  warnings.warn(\n"
     ]
    },
    {
     "data": {
      "text/plain": [
       "array([2])"
      ]
     },
     "execution_count": 7,
     "metadata": {},
     "output_type": "execute_result"
    }
   ],
   "source": [
    "from sklearn import datasets\n",
    "import pandas as pd \n",
    "from sklearn.model_selection import train_test_split\n",
    "from sklearn.ensemble import RandomForestClassifier\n",
    "from sklearn import metrics\n",
    "\n",
    "iris = datasets.load_iris()\n",
    "print(iris.target_names)\n",
    "print(iris.feature_names)\n",
    "print(iris.data[0:5])\n",
    "print(iris.target)\n",
    "\n",
    "data = pd.DataFrame({\n",
    "    'sepal length': iris.data[:,0], \n",
    "    'sepal width': iris.data[:,1], \n",
    "    'petal length': iris.data[:,2], \n",
    "    'petal width': iris.data[:,3], \n",
    "    'species': iris.target\n",
    "})\n",
    "\n",
    "data.head()\n",
    "    \n",
    "X = data[['sepal length', 'sepal width', 'petal length', 'petal width']]\n",
    "y = data['species']\n",
    "\n",
    "X_train, X_test, y_train, y_test = train_test_split(X, y, test_size=0.3)\n",
    "\n",
    "clf = RandomForestClassifier(n_estimators=100)\n",
    "\n",
    "clf.fit(X_train,y_train)\n",
    "\n",
    "y_pred = clf.predict(X_test)\n",
    "\n",
    "print(\"Accuracy:\",metrics.accuracy_score(y_test, y_pred))\n",
    "\n",
    "clf.predict([[3, 5, 4, 2]])"
   ]
  },
  {
   "cell_type": "markdown",
   "metadata": {},
   "source": [
    "Predicting with the RandomForest model"
   ]
  },
  {
   "cell_type": "code",
   "execution_count": 6,
   "metadata": {},
   "outputs": [
    {
     "name": "stdout",
     "output_type": "stream",
     "text": [
      "Score for training: 1.0\n",
      "Score for testing: 1.0\n",
      "[[ 25   0   0   0   0]\n",
      " [  0  39   0   0   0]\n",
      " [  0   0 145   0   0]\n",
      " [  0   0   0  62   0]\n",
      " [  0   0   0   0  37]]\n"
     ]
    }
   ],
   "source": [
    "# prediction with RandomForest model and without validation set\n",
    "\n",
    "import pandas as pd\n",
    "import numpy as np \n",
    "import matplotlib.pyplot as plt\n",
    "import seaborn as sns \n",
    "\n",
    "from sklearn.model_selection import train_test_split\n",
    "from sklearn.preprocessing import StandardScaler\n",
    "from sklearn.ensemble import RandomForestClassifier \n",
    "from sklearn.metrics import confusion_matrix\n",
    "\n",
    "data_dataframe = pd.read_csv('../TOCOM.csv', sep=';') \n",
    "\n",
    "# Preparing the dataframe\n",
    "# Dropping NaN values:\n",
    "data_dataframe.dropna(subset = [\"Gender\"], inplace=True)\n",
    "data_dataframe.dropna(subset = [\"Leeftijd\"], inplace=True)\n",
    "data_dataframe.dropna(subset = [\"AST\"], inplace=True)\n",
    "data_dataframe.dropna(subset = [\"BMI\"], inplace=True)\n",
    "data_dataframe.dropna(subset = [\"Length_cm\"], inplace=True)\n",
    "data_dataframe.dropna(subset = [\"Weight\"], inplace=True)\n",
    "data_dataframe.dropna(subset = [\"MQ\"], inplace=True)\n",
    "data_dataframe.dropna(subset = [\"MQ_category\"], inplace=True)\n",
    "\n",
    "# Dropping columns:\n",
    "data_dataframe_modified = data_dataframe.drop(data_dataframe.columns[[0, 2, 3, 4, 6, 7, 9, 12, 14, 15, 16, 17, 18, 19, 20, 21, 22,23,24,25,26,27,28,29,30,31,32,33,34, 35, 36]], axis=1)\n",
    "\n",
    "X = data_dataframe_modified.iloc[:, :-1].values\n",
    "y = data_dataframe_modified[\"MQ_category\"].values\n",
    "\n",
    "# Splitting dataframe in train and test sets:\n",
    "X_train, X_test, y_train, y_test = train_test_split(X, y, test_size=0.2, stratify = y) \n",
    "\n",
    "# RandomForest model:\n",
    "rf_model = RandomForestClassifier(n_estimators=30)\n",
    "\n",
    "# Using RandomForest model classifier in order to fit the data:\n",
    "rf_model.fit(X_train, y_train)\n",
    "\n",
    "# Predicting the y-data with the RandomForest classifier: \n",
    "y_predict = rf_model.predict(X_test)\n",
    "\n",
    "# Getting the scores for the X_test and y_test subsets:\n",
    "rf_model.score(X_test, y_test)\n",
    "\n",
    "# Printing the scores:\n",
    "print('Score for training: {}'.format(rf_model.score(X_train, y_train)))\n",
    "print('Score for testing: {}'.format(rf_model.score(X_test, y_test)))\n",
    "\n",
    "# Printing the confusion matrix:\n",
    "confusionMatrix = confusion_matrix(y_test, y_predict)\n",
    "print(confusionMatrix)\n"
   ]
  },
  {
   "cell_type": "code",
   "execution_count": 15,
   "metadata": {},
   "outputs": [
    {
     "name": "stdout",
     "output_type": "stream",
     "text": [
      "Score for training: 1.0\n",
      "Score for testing: 1.0\n",
      "[[10  0  0]\n",
      " [ 0 10  0]\n",
      " [ 0  0 10]]\n"
     ]
    }
   ],
   "source": [
    "# prediction with RandomForest model and with validation set\n",
    "\n",
    "# Splitting dataframe in train, test and validation sets:\n",
    "X_temp, X_test, y_temp, y_test = train_test_split(X, y, test_size=0.2 ,random_state=11111 , stratify = y) \n",
    "X_train, X_val, y_train, y_val = train_test_split(X_temp, y_temp, test_size=0.25, random_state=11111 )\n",
    "\n",
    "# RandomForest model\n",
    "rf_model = RandomForestClassifier(n_estimators=30)\n",
    "\n",
    "# Using RandomForest model classifier in order to fit the data:\n",
    "rf_model.fit(X_train, y_train)\n",
    "\n",
    "# Predict y data with classifier: \n",
    "y_predict = rf_model.predict(X_test)\n",
    "\n",
    "# Getting the scores for the X_test and y_test subsets:\n",
    "rf_model.score(X_test, y_test)\n",
    "\n",
    "# Printing the scores:\n",
    "print('Score for training: {}'.format(rf_model.score(X_train, y_train)))\n",
    "print('Score for testing: {}'.format(rf_model.score(X_test, y_test)))\n",
    "\n",
    "# Printing the confusion matrix:\n",
    "confusionMatrix = confusion_matrix(y_test, y_predict)\n",
    "print(confusionMatrix)"
   ]
  },
  {
   "cell_type": "markdown",
   "metadata": {},
   "source": [
    "Visualization of the comparison of predicted and original MQ categories"
   ]
  },
  {
   "cell_type": "code",
   "execution_count": null,
   "metadata": {},
   "outputs": [],
   "source": [
    "# reading the already created data files for X and y: \n",
    "X_test_dataframe = pd.read_csv('../Resp_X_test.csv', sep=';') \n",
    "y_predict_dataframe = pd.read_csv('../y_predict_RF.csv', sep=';') \n",
    "\n",
    "# renaming columns:\n",
    "X_test_dataframe.rename( columns={'Unnamed: 0':'ID'}, inplace=True )\n",
    "X_test_dataframe.rename( columns={'0':'Respondentnumber'}, inplace=True )\n",
    "X_test_dataframe.rename( columns={'4':'MQ'}, inplace=True )\n",
    "X_test_dataframe.rename( columns={'5':'MQ_category'}, inplace=True )\n",
    "y_predict_dataframe.rename( columns={'Unnamed: 0':'ID'}, inplace=True )\n",
    "y_predict_dataframe.rename( columns={'0': 'Predicted_MQ_Category'}, inplace= True)\n",
    "\n",
    "# assigning the column Predicted_MQ_Category of the y_predict_dataframe to a variable\n",
    "# and joining that column to the X_test_dataframe:\n",
    "predicted_MQCategory = y_predict_dataframe['Predicted_MQ_Category']\n",
    "X_test_dataframe = X_test_dataframe.join(predicted_MQCategory)\n",
    "\n",
    "# Creating the visualization (Worked on this topic together with Joep)\n",
    "# set the x and y variables for the graph:\n",
    "x = X_test_dataframe['Respondentnumber'].astype(int)\n",
    "y1 = X_test_dataframe['MQ_category']\n",
    "y2 = X_test_dataframe['Predicted_MQ_Category']\n",
    "\n",
    "# creating the graph:\n",
    "fig, ax = plt.subplots(figsize=(40,10))\n",
    "ax = sns.swarmplot(x, y1, color= 'red', size = 8)\n",
    "ax.set_xticks(ax.get_xticks()[::10])\n",
    "ax = sns.swarmplot(x, y2, color=\"black\", size= 8)\n",
    "ax.set_title(\"Predicted and Original MQ categories\", fontsize = 40, color = 'blue')\n",
    "ax.set_xlabel(\"Childrens' IDs\", fontsize = 30)\n",
    "ax.set_ylabel(\"MQ categories\", fontsize = 30)\n",
    "plt.yticks([1, 2, 3, 4, 5])\n",
    "plt.xticks(rotation=45, fontsize=20)\n",
    "plt.show()"
   ]
  },
  {
   "cell_type": "markdown",
   "metadata": {},
   "source": [
    "Visualization of the difference between original and predicted MQ categories"
   ]
  },
  {
   "cell_type": "code",
   "execution_count": null,
   "metadata": {},
   "outputs": [],
   "source": [
    "# Creating the visualization (Worked on this topic together with Joep)\n",
    "# set the x and y variables for the graph:\n",
    "x = X_test_dataframe['Respondentnumber'].astype(int)\n",
    "y1 = X_test_dataframe['MQ_category']\n",
    "y2 = X_test_dataframe['Predicted_MQ_Category']\n",
    "y_difference = y2 - y1  \n",
    "\n",
    "# creating the graph:\n",
    "fig, ax = plt.subplots(figsize =(30,10))\n",
    "ax = sns.swarmplot(x, y_difference, color= 'black', size = 10)\n",
    "ax.set_xticks(ax.get_xticks()[::10])\n",
    "ax.set_title(\"Difference between original and predicted MQ categories\", fontsize = 40, color = 'blue')\n",
    "ax.set_xlabel(\"Childrens' IDs\", fontsize = 30)\n",
    "ax.set_ylabel(\"Difference\", fontsize = 30)\n",
    "plt.yticks([-2, -1, 0, 1, 2])\n",
    "plt.xticks(rotation = 45, fontsize = 20)\n",
    "plt.show()"
   ]
  }
 ],
 "metadata": {
  "kernelspec": {
   "display_name": "pyspark",
   "language": "python",
   "name": "undefined.--profile=pyspark"
  },
  "language_info": {
   "codemirror_mode": {
    "name": "ipython",
    "version": 3
   },
   "file_extension": ".py",
   "mimetype": "text/x-python",
   "name": "python",
   "nbconvert_exporter": "python",
   "pygments_lexer": "ipython3",
   "version": "3.8.8"
  },
  "orig_nbformat": 4
 },
 "nbformat": 4,
 "nbformat_minor": 2
}
