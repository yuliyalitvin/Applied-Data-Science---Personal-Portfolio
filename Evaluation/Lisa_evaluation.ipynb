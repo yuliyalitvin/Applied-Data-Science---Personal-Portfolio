{
 "cells": [
  {
   "cell_type": "code",
   "execution_count": 36,
   "source": [
    "\n",
    "from sklearn.model_selection import train_test_split\n",
    "from sklearn.preprocessing import StandardScaler \n",
    "from sklearn.neighbors import KNeighborsClassifier\n",
    "from sklearn.metrics import classification_report, confusion_matrix, plot_confusion_matrix, recall_score\n",
    "from sklearn.ensemble import RandomForestClassifier\n",
    "from sklearn.preprocessing import MinMaxScaler\n",
    "import numpy as np \n",
    "import matplotlib.pyplot as plt\n",
    "import pandas as pd\n",
    "import seaborn as sns \n",
    "from sklearn.metrics import precision_recall_curve\n",
    "from sklearn.metrics import accuracy_score"
   ],
   "outputs": [],
   "metadata": {}
  },
  {
   "cell_type": "code",
   "execution_count": 37,
   "source": [
    "X_train = pd.read_csv('../Joep/X_train.csv', sep = ',')\n",
    "y_train = pd.read_csv('../Joep/y_train.csv', sep = ',')\n",
    "\n",
    "X_test = pd.read_csv('../Joep/X_test.csv', sep = ',')\n",
    "y_test = pd.read_csv('../Joep/y_test.csv', sep = ',')\n"
   ],
   "outputs": [],
   "metadata": {}
  },
  {
   "cell_type": "code",
   "execution_count": 38,
   "source": [
    "# Predict y data with classifier: \n",
    "model = RandomForestClassifier(n_estimators=50)\n",
    "model.fit(X_train, y_train)\n",
    "\n",
    "\n",
    "\n",
    "y_predict = model.predict(X_test)\n",
    "\n",
    "model.score(X_test, y_test)\n",
    "\n",
    "print(' training score: {}'.format(model.score(X_train, y_train)))\n",
    "print(' testing score: {}'.format(model.score(X_test, y_test)))\n",
    "\n",
    "plot_confusion_matrix(model, X_test, y_test)\n",
    "plt.show()"
   ],
   "outputs": [
    {
     "output_type": "stream",
     "name": "stderr",
     "text": [
      "/tmp/ipykernel_17177/2531075767.py:3: DataConversionWarning: A column-vector y was passed when a 1d array was expected. Please change the shape of y to (n_samples,), for example using ravel().\n",
      "  model.fit(X_train, y_train)\n",
      "/opt/jupyterhub/anaconda/lib/python3.8/site-packages/sklearn/utils/deprecation.py:87: FutureWarning: Function plot_confusion_matrix is deprecated; Function `plot_confusion_matrix` is deprecated in 1.0 and will be removed in 1.2. Use one of the class methods: ConfusionMatrixDisplay.from_predictions or ConfusionMatrixDisplay.from_estimator.\n",
      "  warnings.warn(msg, category=FutureWarning)\n"
     ]
    },
    {
     "output_type": "stream",
     "name": "stdout",
     "text": [
      " training score: 0.9687203791469194\n",
      " testing score: 0.7621951219512195\n"
     ]
    },
    {
     "output_type": "display_data",
     "data": {
      "image/png": "[encoded data removed]",
      "text/plain": [
       "<Figure size 432x288 with 2 Axes>"
      ]
     },
     "metadata": {
      "needs_background": "light"
     }
    }
   ],
   "metadata": {}
  },
  {
   "cell_type": "code",
   "execution_count": 39,
   "source": [
    "tn, fp, fn, tp = confusion_matrix(y_test, y_predict, labels=[0, 1]).ravel()\n",
    "print(tn, fp, fn, tp)\n",
    "\n",
    "\n",
    "FalseNegativeRate= fp/(fp+tp)\n",
    "\n",
    "print('False negative rate: %.3f' %(FalseNegativeRate))"
   ],
   "outputs": [
    {
     "output_type": "stream",
     "name": "stdout",
     "text": [
      "9 30 9 116\n",
      "False negative rate: 0.205\n"
     ]
    }
   ],
   "metadata": {}
  },
  {
   "cell_type": "code",
   "execution_count": 40,
   "source": [
    "#accuracy score\n",
    "\n",
    "predict = model.predict(X_train)\n",
    "accuracyTrain = accuracy_score(y_train, predict)\n",
    "\n",
    "\n",
    "accuracy = accuracy_score(y_test, y_predict)\n",
    "\n",
    "print('Accuracy test set: %.3f' %(accuracy*100))\n",
    "print('Accuracy train set: %.3f' %(accuracyTrain*100))\n"
   ],
   "outputs": [
    {
     "output_type": "stream",
     "name": "stdout",
     "text": [
      "Accuracy test set: 76.220\n",
      "Accuracy train set: 96.872\n"
     ]
    }
   ],
   "metadata": {}
  },
  {
   "cell_type": "code",
   "execution_count": 41,
   "source": [
    "#calculate precision and recall\n",
    "precision, recall, thresholds = precision_recall_curve(y_test, y_predict)\n",
    "\n",
    "#create precision recall curve\n",
    "fig, ax = plt.subplots()\n",
    "ax.plot(recall, precision, color='purple')\n",
    "\n",
    "#add axis labels to plot\n",
    "ax.set_title('Precision-Recall Curve')\n",
    "ax.set_ylabel('Precision')\n",
    "ax.set_xlabel('Recall')\n",
    "\n",
    "#display plot\n",
    "plt.show()\n"
   ],
   "outputs": [
    {
     "output_type": "display_data",
     "data": {
      "image/png": "[encoded data removed]",
      "text/plain": [
       "<Figure size 432x288 with 1 Axes>"
      ]
     },
     "metadata": {
      "needs_background": "light"
     }
    }
   ],
   "metadata": {}
  },
  {
   "cell_type": "code",
   "execution_count": 42,
   "source": [
    "def evaluating(Xtest,ytest, Xtrain, ytrain):\n",
    "    y_predict = model.predict(X_test)\n",
    "    model.score(X_test, y_test)\n",
    "    print(' training score: {}'.format(model.score(X_train, y_train)))\n",
    "    print(' testing score: {}'.format(model.score(X_test, y_test)))\n",
    "    \n",
    "    plot_confusion_matrix(model, X_test, y_test)\n",
    "    plt.show()\n",
    "\n",
    "    tn, fp, fn, tp = confusion_matrix(y_test, y_predict, labels=[0, 1]).ravel()\n",
    "    print(tn, fp, fn, tp)\n",
    "    FalseNegativeRate= fp/(fp+tp)\n",
    "    print('False negative rate: %.3f' %(FalseNegativeRate))\n",
    "\n",
    "    predict = model.predict(X_train)\n",
    "    accuracyTrain = accuracy_score(y_train, predict)\n",
    "    accuracy = accuracy_score(y_test, y_predict)\n",
    "    print('Accuracy test set: %.3f' %(accuracy*100))\n",
    "    print('Accuracy train set: %.3f' %(accuracyTrain*100))\n",
    "\n",
    "    precision, recall, thresholds = precision_recall_curve(y_test, y_predict)\n",
    "    fig, ax = plt.subplots()\n",
    "    ax.plot(recall, precision, color='purple')\n",
    "    ax.set_title('Precision-Recall Curve')\n",
    "    ax.set_ylabel('Precision')\n",
    "    ax.set_xlabel('Recall')\n",
    "    plt.show()\n",
    "    "
   ],
   "outputs": [],
   "metadata": {}
  }
 ],
 "metadata": {
  "orig_nbformat": 4,
  "kernelspec": {
   "name": "undefined.--profile=pyspark",
   "display_name": "pyspark",
   "language": "python"
  }
 },
 "nbformat": 4,
 "nbformat_minor": 2
}